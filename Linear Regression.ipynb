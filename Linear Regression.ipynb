{
 "cells": [
  {
   "cell_type": "code",
   "execution_count": 2,
   "metadata": {},
   "outputs": [],
   "source": [
    "import numpy as np\n",
    "import torch\n",
    "import torch.nn as nn\n",
    "import matplotlib.pyplot as plt"
   ]
  },
  {
   "cell_type": "code",
   "execution_count": 130,
   "metadata": {},
   "outputs": [],
   "source": [
    "#defining class for our linear objects\n",
    "class LR(nn.Module):\n",
    "    def __init__(self, input_size , output_size):\n",
    "        super().__init__() #for inhertitance\n",
    "        self.Linear = nn.Linear(input_size , output_size)\n",
    "        \n",
    "    def forward(self,x):\n",
    "        pred = self.Linear(x)\n",
    "        return pred"
   ]
  },
  {
   "cell_type": "code",
   "execution_count": 131,
   "metadata": {},
   "outputs": [],
   "source": [
    "# to use it in our learning process\n",
    "def get_params():\n",
    "    return(w[0][0].item(), b[0].item())"
   ]
  },
  {
   "cell_type": "code",
   "execution_count": 132,
   "metadata": {},
   "outputs": [],
   "source": [
    "#declaring object\n",
    "torch.manual_seed(2)\n",
    "model = LR(1,1)\n",
    "[w,b] = model.parameters() #to gain w and b for the first time for our object"
   ]
  },
  {
   "cell_type": "code",
   "execution_count": 133,
   "metadata": {},
   "outputs": [],
   "source": [
    "#creating dataset\n",
    "x = torch.randn(100,1)*10\n",
    "y = x + torch.randn(100,1)*5"
   ]
  },
  {
   "cell_type": "code",
   "execution_count": 134,
   "metadata": {},
   "outputs": [],
   "source": [
    "#plt.plot(x.numpy(),y.numpy(), 'o')\n",
    "#plt.xlabel('x')\n",
    "#plt.ylabel('y')"
   ]
  },
  {
   "cell_type": "code",
   "execution_count": 135,
   "metadata": {},
   "outputs": [],
   "source": [
    "def plot_fit(title):\n",
    "    plt.title = title\n",
    "    w1 , b1 = get_params()\n",
    "    x1 = np.array([-30,30])\n",
    "    y1 = w1*x1 + b1\n",
    "    plt.plot(x1,y1,'r')\n",
    "    plt.scatter(x,y) #in every depart cell it plot in same plot\n",
    "    plt.show()\n",
    "    "
   ]
  },
  {
   "cell_type": "code",
   "execution_count": 136,
   "metadata": {},
   "outputs": [
    {
     "data": {
      "image/png": "[encoded data removed]",
      "text/plain": [
       "<Figure size 432x288 with 1 Axes>"
      ]
     },
     "metadata": {
      "needs_background": "light"
     },
     "output_type": "display_data"
    }
   ],
   "source": [
    "plot_fit('initial model')"
   ]
  },
  {
   "cell_type": "code",
   "execution_count": 137,
   "metadata": {},
   "outputs": [],
   "source": [
    "criterion = nn.MSELoss() #mean square\n",
    "optimizer = torch.optim.SGD(model.parameters() , lr = 0.01)"
   ]
  },
  {
   "cell_type": "code",
   "execution_count": 138,
   "metadata": {},
   "outputs": [
    {
     "name": "stdout",
     "output_type": "stream",
     "text": [
      "epoch =  0  loss =  68.81129455566406\n",
      "epoch =  1  loss =  51.97829055786133\n",
      "epoch =  2  loss =  41.38178634643555\n",
      "epoch =  3  loss =  34.711204528808594\n",
      "epoch =  4  loss =  30.512004852294922\n",
      "epoch =  5  loss =  27.868532180786133\n",
      "epoch =  6  loss =  26.204408645629883\n",
      "epoch =  7  loss =  25.156787872314453\n",
      "epoch =  8  loss =  24.49725914001465\n",
      "epoch =  9  loss =  24.082040786743164\n",
      "epoch =  10  loss =  23.820615768432617\n",
      "epoch =  11  loss =  23.656005859375\n",
      "epoch =  12  loss =  23.552335739135742\n",
      "epoch =  13  loss =  23.487041473388672\n",
      "epoch =  14  loss =  23.44589614868164\n",
      "epoch =  15  loss =  23.419963836669922\n",
      "epoch =  16  loss =  23.403602600097656\n",
      "epoch =  17  loss =  23.393268585205078\n",
      "epoch =  18  loss =  23.386735916137695\n",
      "epoch =  19  loss =  23.382587432861328\n",
      "epoch =  20  loss =  23.37995147705078\n",
      "epoch =  21  loss =  23.378253936767578\n",
      "epoch =  22  loss =  23.37717056274414\n",
      "epoch =  23  loss =  23.376455307006836\n",
      "epoch =  24  loss =  23.37598419189453\n",
      "epoch =  25  loss =  23.375661849975586\n",
      "epoch =  26  loss =  23.375436782836914\n",
      "epoch =  27  loss =  23.375268936157227\n",
      "epoch =  28  loss =  23.375144958496094\n",
      "epoch =  29  loss =  23.375043869018555\n",
      "epoch =  30  loss =  23.374963760375977\n",
      "epoch =  31  loss =  23.374889373779297\n",
      "epoch =  32  loss =  23.374832153320312\n",
      "epoch =  33  loss =  23.374774932861328\n",
      "epoch =  34  loss =  23.37472152709961\n",
      "epoch =  35  loss =  23.374670028686523\n",
      "epoch =  36  loss =  23.374624252319336\n",
      "epoch =  37  loss =  23.37457847595215\n",
      "epoch =  38  loss =  23.374536514282227\n",
      "epoch =  39  loss =  23.374500274658203\n",
      "epoch =  40  loss =  23.374460220336914\n",
      "epoch =  41  loss =  23.374422073364258\n",
      "epoch =  42  loss =  23.374387741088867\n",
      "epoch =  43  loss =  23.37435531616211\n",
      "epoch =  44  loss =  23.374319076538086\n",
      "epoch =  45  loss =  23.374290466308594\n",
      "epoch =  46  loss =  23.37425994873047\n",
      "epoch =  47  loss =  23.374231338500977\n",
      "epoch =  48  loss =  23.374204635620117\n",
      "epoch =  49  loss =  23.374174118041992\n",
      "epoch =  50  loss =  23.3741512298584\n",
      "epoch =  51  loss =  23.374128341674805\n",
      "epoch =  52  loss =  23.374101638793945\n",
      "epoch =  53  loss =  23.37407684326172\n",
      "epoch =  54  loss =  23.37405776977539\n",
      "epoch =  55  loss =  23.374038696289062\n",
      "epoch =  56  loss =  23.3740177154541\n",
      "epoch =  57  loss =  23.37399673461914\n",
      "epoch =  58  loss =  23.373985290527344\n",
      "epoch =  59  loss =  23.373964309692383\n",
      "epoch =  60  loss =  23.373945236206055\n",
      "epoch =  61  loss =  23.37392807006836\n",
      "epoch =  62  loss =  23.373912811279297\n",
      "epoch =  63  loss =  23.3738956451416\n",
      "epoch =  64  loss =  23.373882293701172\n",
      "epoch =  65  loss =  23.373868942260742\n",
      "epoch =  66  loss =  23.373859405517578\n",
      "epoch =  67  loss =  23.373842239379883\n",
      "epoch =  68  loss =  23.373830795288086\n",
      "epoch =  69  loss =  23.373817443847656\n",
      "epoch =  70  loss =  23.37380599975586\n",
      "epoch =  71  loss =  23.373796463012695\n",
      "epoch =  72  loss =  23.37378692626953\n",
      "epoch =  73  loss =  23.3737735748291\n",
      "epoch =  74  loss =  23.373762130737305\n",
      "epoch =  75  loss =  23.373756408691406\n",
      "epoch =  76  loss =  23.373746871948242\n",
      "epoch =  77  loss =  23.373741149902344\n",
      "epoch =  78  loss =  23.373729705810547\n",
      "epoch =  79  loss =  23.37372589111328\n",
      "epoch =  80  loss =  23.373716354370117\n",
      "epoch =  81  loss =  23.373706817626953\n",
      "epoch =  82  loss =  23.373706817626953\n",
      "epoch =  83  loss =  23.37369155883789\n",
      "epoch =  84  loss =  23.373693466186523\n",
      "epoch =  85  loss =  23.37368392944336\n",
      "epoch =  86  loss =  23.373674392700195\n",
      "epoch =  87  loss =  23.373668670654297\n",
      "epoch =  88  loss =  23.37366485595703\n",
      "epoch =  89  loss =  23.3736629486084\n",
      "epoch =  90  loss =  23.3736515045166\n",
      "epoch =  91  loss =  23.3736515045166\n",
      "epoch =  92  loss =  23.373641967773438\n",
      "epoch =  93  loss =  23.373640060424805\n",
      "epoch =  94  loss =  23.373634338378906\n",
      "epoch =  95  loss =  23.373632431030273\n",
      "epoch =  96  loss =  23.373628616333008\n",
      "epoch =  97  loss =  23.37362289428711\n",
      "epoch =  98  loss =  23.373619079589844\n",
      "epoch =  99  loss =  23.373615264892578\n"
     ]
    }
   ],
   "source": [
    "epoch = 100\n",
    "losses = []\n",
    "for i in range(epoch):\n",
    "    y_pred = model.forward(x)\n",
    "    loss = criterion(y_pred , y)\n",
    "    print(\"epoch = \", i ,\" loss = \", loss.item())\n",
    "    \n",
    "    losses.append(loss)\n",
    "    optimizer.zero_grad() #to zero and clean prior history of optimizer\n",
    "    loss.backward() # here is the main part to train and better our model\n",
    "    optimizer.step()"
   ]
  },
  {
   "cell_type": "code",
   "execution_count": 139,
   "metadata": {},
   "outputs": [
    {
     "data": {
      "text/plain": [
       "Text(0, 0.5, 'loss')"
      ]
     },
     "execution_count": 139,
     "metadata": {},
     "output_type": "execute_result"
    },
    {
     "data": {
      "image/png": "[encoded data removed]",
      "text/plain": [
       "<Figure size 432x288 with 1 Axes>"
      ]
     },
     "metadata": {
      "needs_background": "light"
     },
     "output_type": "display_data"
    }
   ],
   "source": [
    "plt.plot(range(epoch), losses)\n",
    "plt.xlabel('epoch')\n",
    "plt.ylabel('loss')"
   ]
  },
  {
   "cell_type": "code",
   "execution_count": 140,
   "metadata": {},
   "outputs": [
    {
     "data": {
      "image/png": "[encoded data removed]",
      "text/plain": [
       "<Figure size 432x288 with 1 Axes>"
      ]
     },
     "metadata": {
      "needs_background": "light"
     },
     "output_type": "display_data"
    }
   ],
   "source": [
    "plot_fit('trained model') #how does it know we are calling this model object?????"
   ]
  },
  {
   "cell_type": "code",
   "execution_count": null,
   "metadata": {},
   "outputs": [],
   "source": []
  }
 ],
 "metadata": {
  "kernelspec": {
   "display_name": "Python 3",
   "language": "python",
   "name": "python3"
  },
  "language_info": {
   "codemirror_mode": {
    "name": "ipython",
    "version": 3
   },
   "file_extension": ".py",
   "mimetype": "text/x-python",
   "name": "python",
   "nbconvert_exporter": "python",
   "pygments_lexer": "ipython3",
   "version": "3.7.6"
  }
 },
 "nbformat": 4,
 "nbformat_minor": 4
}
